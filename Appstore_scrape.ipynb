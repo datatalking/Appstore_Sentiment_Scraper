{
 "cells": [
  {
   "cell_type": "code",
   "execution_count": 73,
   "metadata": {},
   "outputs": [
    {
     "name": "stdout",
     "output_type": "stream",
     "text": [
      "Requirement already satisfied: fsspec in /Users/owner/opt/anaconda3/envs/Appstore_Sentiment_Scrape/lib/python3.8/site-packages (2023.3.0)\r\n",
      "Requirement already satisfied: app-store-scraper in /Users/owner/opt/anaconda3/envs/Appstore_Sentiment_Scrape/lib/python3.8/site-packages (0.3.5)\r\n",
      "Requirement already satisfied: requests==2.23.0 in /Users/owner/opt/anaconda3/envs/Appstore_Sentiment_Scrape/lib/python3.8/site-packages (from app-store-scraper) (2.23.0)\r\n",
      "Requirement already satisfied: certifi>=2017.4.17 in /Users/owner/opt/anaconda3/envs/Appstore_Sentiment_Scrape/lib/python3.8/site-packages (from requests==2.23.0->app-store-scraper) (2022.12.7)\r\n",
      "Requirement already satisfied: urllib3!=1.25.0,!=1.25.1,<1.26,>=1.21.1 in /Users/owner/opt/anaconda3/envs/Appstore_Sentiment_Scrape/lib/python3.8/site-packages (from requests==2.23.0->app-store-scraper) (1.25.11)\r\n",
      "Requirement already satisfied: idna<3,>=2.5 in /Users/owner/opt/anaconda3/envs/Appstore_Sentiment_Scrape/lib/python3.8/site-packages (from requests==2.23.0->app-store-scraper) (2.10)\r\n",
      "Requirement already satisfied: chardet<4,>=3.0.2 in /Users/owner/opt/anaconda3/envs/Appstore_Sentiment_Scrape/lib/python3.8/site-packages (from requests==2.23.0->app-store-scraper) (3.0.4)\r\n",
      "Requirement already satisfied: pandas in /Users/owner/opt/anaconda3/envs/Appstore_Sentiment_Scrape/lib/python3.8/site-packages (1.5.3)\r\n",
      "Requirement already satisfied: python-dateutil>=2.8.1 in /Users/owner/opt/anaconda3/envs/Appstore_Sentiment_Scrape/lib/python3.8/site-packages (from pandas) (2.8.2)\r\n",
      "Requirement already satisfied: pytz>=2020.1 in /Users/owner/opt/anaconda3/envs/Appstore_Sentiment_Scrape/lib/python3.8/site-packages (from pandas) (2022.7.1)\r\n",
      "Requirement already satisfied: numpy>=1.20.3 in /Users/owner/opt/anaconda3/envs/Appstore_Sentiment_Scrape/lib/python3.8/site-packages (from pandas) (1.24.2)\r\n",
      "Requirement already satisfied: six>=1.5 in /Users/owner/opt/anaconda3/envs/Appstore_Sentiment_Scrape/lib/python3.8/site-packages (from python-dateutil>=2.8.1->pandas) (1.16.0)\r\n",
      "Requirement already satisfied: numpy in /Users/owner/opt/anaconda3/envs/Appstore_Sentiment_Scrape/lib/python3.8/site-packages (1.24.2)\r\n",
      "Requirement already satisfied: black[d] in /Users/owner/opt/anaconda3/envs/Appstore_Sentiment_Scrape/lib/python3.8/site-packages (23.1.0)\r\n",
      "Requirement already satisfied: click>=8.0.0 in /Users/owner/opt/anaconda3/envs/Appstore_Sentiment_Scrape/lib/python3.8/site-packages (from black[d]) (8.1.3)\r\n",
      "Requirement already satisfied: typing-extensions>=3.10.0.0 in /Users/owner/opt/anaconda3/envs/Appstore_Sentiment_Scrape/lib/python3.8/site-packages (from black[d]) (4.5.0)\r\n",
      "Requirement already satisfied: pathspec>=0.9.0 in /Users/owner/opt/anaconda3/envs/Appstore_Sentiment_Scrape/lib/python3.8/site-packages (from black[d]) (0.11.1)\r\n",
      "Requirement already satisfied: packaging>=22.0 in /Users/owner/opt/anaconda3/envs/Appstore_Sentiment_Scrape/lib/python3.8/site-packages (from black[d]) (23.0)\r\n",
      "Requirement already satisfied: tomli>=1.1.0 in /Users/owner/opt/anaconda3/envs/Appstore_Sentiment_Scrape/lib/python3.8/site-packages (from black[d]) (2.0.1)\r\n",
      "Requirement already satisfied: mypy-extensions>=0.4.3 in /Users/owner/opt/anaconda3/envs/Appstore_Sentiment_Scrape/lib/python3.8/site-packages (from black[d]) (1.0.0)\r\n",
      "Requirement already satisfied: platformdirs>=2 in /Users/owner/opt/anaconda3/envs/Appstore_Sentiment_Scrape/lib/python3.8/site-packages (from black[d]) (3.1.1)\r\n",
      "Requirement already satisfied: aiohttp>=3.7.4 in /Users/owner/opt/anaconda3/envs/Appstore_Sentiment_Scrape/lib/python3.8/site-packages (from black[d]) (3.8.4)\r\n",
      "Requirement already satisfied: frozenlist>=1.1.1 in /Users/owner/opt/anaconda3/envs/Appstore_Sentiment_Scrape/lib/python3.8/site-packages (from aiohttp>=3.7.4->black[d]) (1.3.3)\r\n",
      "Requirement already satisfied: async-timeout<5.0,>=4.0.0a3 in /Users/owner/opt/anaconda3/envs/Appstore_Sentiment_Scrape/lib/python3.8/site-packages (from aiohttp>=3.7.4->black[d]) (4.0.2)\r\n",
      "Requirement already satisfied: charset-normalizer<4.0,>=2.0 in /Users/owner/opt/anaconda3/envs/Appstore_Sentiment_Scrape/lib/python3.8/site-packages (from aiohttp>=3.7.4->black[d]) (3.1.0)\r\n",
      "Requirement already satisfied: multidict<7.0,>=4.5 in /Users/owner/opt/anaconda3/envs/Appstore_Sentiment_Scrape/lib/python3.8/site-packages (from aiohttp>=3.7.4->black[d]) (6.0.4)\r\n",
      "Requirement already satisfied: aiosignal>=1.1.2 in /Users/owner/opt/anaconda3/envs/Appstore_Sentiment_Scrape/lib/python3.8/site-packages (from aiohttp>=3.7.4->black[d]) (1.3.1)\r\n",
      "Requirement already satisfied: attrs>=17.3.0 in /Users/owner/opt/anaconda3/envs/Appstore_Sentiment_Scrape/lib/python3.8/site-packages (from aiohttp>=3.7.4->black[d]) (22.2.0)\r\n",
      "Requirement already satisfied: yarl<2.0,>=1.0 in /Users/owner/opt/anaconda3/envs/Appstore_Sentiment_Scrape/lib/python3.8/site-packages (from aiohttp>=3.7.4->black[d]) (1.8.2)\r\n",
      "Requirement already satisfied: idna>=2.0 in /Users/owner/opt/anaconda3/envs/Appstore_Sentiment_Scrape/lib/python3.8/site-packages (from yarl<2.0,>=1.0->aiohttp>=3.7.4->black[d]) (2.10)\r\n"
     ]
    }
   ],
   "source": [
    "# SOURCE https://appfigures.com/top-apps/ios-app-store/united-states/iphone/top-overall\n",
    "## could build a top 1000 app scraper, call the companies who have bad sentiment analysis scores, offer to collab to fix\n",
    "# SOURCE https://www.linkedin.com/pulse/how-scrape-app-store-reviews-4-simple-steps-using-python-kundi/?trk=public_profile_article_view\n",
    "!pip3 install fsspec\n",
    "!pip3 install app-store-scraper\n",
    "!pip3 install pandas\n",
    "!pip3 install numpy"
   ]
  },
  {
   "cell_type": "code",
   "execution_count": 74,
   "metadata": {},
   "outputs": [
    {
     "name": "stderr",
     "output_type": "stream",
     "text": [
      "2023-03-22 03:48:26,899 [INFO] Base - Searching for app id\n",
      "2023-03-22 03:48:28,843 [INFO] Base - Initialised: AppStore('us', 'servicemonster-llc', 1399695377)\n",
      "2023-03-22 03:48:28,844 [INFO] Base - Ready to fetch reviews from: https://apps.apple.com/us/app/servicemonster-llc/id1399695377\n",
      "2023-03-22 03:48:28,845 [INFO] Base - Searching for app id\n",
      "2023-03-22 03:48:29,708 [INFO] Base - Initialised: AppStore('us', 'zello', 508231856)\n",
      "2023-03-22 03:48:29,709 [INFO] Base - Ready to fetch reviews from: https://apps.apple.com/us/app/zello/id508231856\n",
      "2023-03-22 03:48:29,947 [INFO] Base - [id:1399695377] Fetched 12 reviews (12 fetched in total)\n",
      "2023-03-22 03:48:33,979 [INFO] Base - [id:508231856] Fetched 1500 reviews (1500 fetched in total)\n"
     ]
    }
   ],
   "source": [
    "from app_store_scraper import AppStore\n",
    "import pandas as pd\n",
    "import numpy as np\n",
    "import os\n",
    "import json\n",
    "# print(os.listdir(\"../input\"))\n",
    "\n",
    "iOS_app_name = \"SERVICEMONSTER\"\n",
    "\n",
    "APP_NAME = AppStore(country=\"us\", app_name=iOS_app_name)\n",
    "# zello = AppStore(country=\"us\", app_name=\"zello\")\n",
    "\n",
    "# TODO pass x number of appstore reviews, of x company, its competitors.\n",
    "\n",
    "APP_NAME.review(how_many=1500)\n",
    "# zello.review(how_many=1500)"
   ]
  },
  {
   "cell_type": "code",
   "execution_count": 75,
   "metadata": {},
   "outputs": [
    {
     "data": {
      "text/plain": "[{'date': datetime.datetime(2020, 9, 3, 22, 58, 54),\n  'developerResponse': {'id': 16292956,\n   'body': \"Hi there, \\n\\nWe've released an update that should have fixed the crashing issues. Let us know if you're still experiencing issues! Thanks so much.\",\n   'modified': '2020-09-03T22:58:54Z'},\n  'review': 'New updates are good. Fixed some outstanding issues that were annoying. \\n\\nIssue: since the last major update app forces google maps instead of Apple Maps. Maybe have the option to choose?\\n\\nThings that would make it better:\\n1:  ability to change image name \\n2: when looking at an order allow have a button that’s lets you schedule an appointment.\\n3: when looking at an account have a “new order button.\\n4: when editing account allow option to set account alert flag. \\n5: iPad app \\n6: really don’t like the pink box over stacked jobs. It’s a pain to deal with and an eyesore. SM5 used to offset the jobs. That would be cool.\\n7: when sending email allow the ability to load a template then change the content.',\n  'rating': 3,\n  'isEdited': True,\n  'userName': 'Kali-jw',\n  'title': 'It’s ok'},\n {'date': datetime.datetime(2021, 2, 21, 21, 24, 15),\n  'developerResponse': {'id': 26463289,\n   'body': 'Thank you for the kind words, we appreciate the feedback!',\n   'modified': '2021-11-24T23:36:51Z'},\n  'review': 'I have been a Servicemonster user for 10 years.  They offer great support if needed and continue to improve the software.  It’s a great value for the money!  Between Servicemonster, Quickbooks and Ringcentral we can run our entire home service business with a laptop and smartphone.  With features like drip campaigns, fill my schedule, data tags, API you can automate a lot of processes and minimize “busy work” or admin staff.   Highly recommend!',\n  'rating': 5,\n  'isEdited': False,\n  'userName': 'AMF from IN',\n  'title': 'Couldn’t run my business without it!'},\n {'date': datetime.datetime(2021, 10, 26, 10, 19, 20),\n  'review': 'The camera function annoyingly crops photos down smaller for no reason. It’s already hard enough to frame what you are photographing. I don’t need it cropped down any smaller. Please fix this.',\n  'rating': 3,\n  'isEdited': False,\n  'userName': 'bjsavage7',\n  'title': 'Camera'},\n {'date': datetime.datetime(2021, 11, 1, 18, 19, 37),\n  'developerResponse': {'id': 26463283,\n   'body': 'Please pass more information about this issue to support@servicemonster.net so that our support and development teams can address the problem that you are having. ',\n   'modified': '2021-11-24T23:35:56Z'},\n  'review': 'Use this app everyday for work going to different jobs and keeping track of everything that needs to be done. Nothing more frustrating then the app you rely on not working. This isn’t a once in a while problem it’s at least once a week more often then not daily. Have to delete and reinstall the app just for it to refresh',\n  'rating': 1,\n  'isEdited': False,\n  'userName': 'DJ63DJ6363',\n  'title': 'Works maybe half the time'},\n {'date': datetime.datetime(2019, 9, 8, 10, 14, 57),\n  'developerResponse': {'id': 10655165,\n   'body': 'Hi Stephen, we really appreciate your kind words! Thanks for the positive feedback and let us know if you need anything.',\n   'modified': '2019-09-12T17:36:16Z'},\n  'review': 'Our company had been waiting patiently for Service Monster to release this new robust app that extended the capabilities of their technician app. They delivered big time! From businesses management to marketing campaigns they have you covered. \\n\\nThe developers work quickly to address bugs and have almost daily updates fixing issues raised. \\n\\nIf your looking for the best, proven, most ubiquitous SAS platform to grow your service business look no further. \\n\\nThank you Joe K for delivering!\\n\\nStephen - Clean Carpet Rx',\n  'rating': 5,\n  'isEdited': False,\n  'userName': 'HiTECH WEB',\n  'title': 'Great Company, awesome app, best developers'},\n {'date': datetime.datetime(2021, 2, 14, 3, 31, 29),\n  'review': 'We have tried many other CRM products. This is by far the best. Tech support is second to none.  They are always there to help. Five plus stars for this product.',\n  'rating': 5,\n  'isEdited': False,\n  'userName': 'VinnyCC',\n  'title': 'Great App'},\n {'date': datetime.datetime(2022, 10, 10, 14, 15, 17),\n  'review': 'Love everything about this app. Would love to see you add CarPlay to the app for a lot of newer vehicles to be compatible for in dash service.',\n  'rating': 5,\n  'isEdited': False,\n  'userName': 'WPCcontrol',\n  'title': 'Great Service'},\n {'date': datetime.datetime(2020, 11, 18, 22, 48, 19),\n  'review': 'There’s a lot of issues with this app.',\n  'rating': 2,\n  'isEdited': False,\n  'userName': 'cwilliams93735182',\n  'title': 'Many bugs'},\n {'date': datetime.datetime(2021, 11, 1, 19, 0, 48),\n  'developerResponse': {'id': 26463276,\n   'body': \"We're sorry to hear that you are having issues with the notes field. Please reach out to support@servicemonster.net and our support team will be there to help you!\",\n   'modified': '2021-11-24T23:33:33Z'},\n  'review': \"It barely works. But don't put notes in when you create an appointment. It'll lose them. It often logs you out then crashes twice before working properly.\",\n  'rating': 1,\n  'isEdited': False,\n  'userName': 'fly....n.....',\n  'title': 'So many issues!'},\n {'date': datetime.datetime(2021, 8, 29, 3, 14, 53),\n  'review': 'Everything I try and log into this app, a white screen comes up and it’s stuck',\n  'rating': 1,\n  'isEdited': False,\n  'userName': 'd_dominator',\n  'title': 'White screen'},\n {'date': datetime.datetime(2020, 11, 10, 15, 47, 37),\n  'review': 'App is good when it’s working. Problem I’ve found is every week or two I’ll go to open the app and it’ll immediately crash. I have to uninstall and reinstall. Another employee has same problem on android',\n  'rating': 2,\n  'isEdited': False,\n  'userName': 'frustrated 9997',\n  'title': 'Constant crashing'},\n {'date': datetime.datetime(2021, 2, 9, 13, 28, 1),\n  'review': 'Yep, nice color choices',\n  'rating': 5,\n  'isEdited': False,\n  'userName': 'Davegoloath14',\n  'title': 'Nice colors'}]"
     },
     "execution_count": 75,
     "metadata": {},
     "output_type": "execute_result"
    }
   ],
   "source": [
    "APP_NAME.reviews"
   ]
  },
  {
   "cell_type": "code",
   "execution_count": 76,
   "metadata": {},
   "outputs": [
    {
     "data": {
      "text/plain": "[{'date': datetime.datetime(2020, 9, 3, 22, 58, 54),\n  'developerResponse': {'id': 16292956,\n   'body': \"Hi there, \\n\\nWe've released an update that should have fixed the crashing issues. Let us know if you're still experiencing issues! Thanks so much.\",\n   'modified': '2020-09-03T22:58:54Z'},\n  'review': 'New updates are good. Fixed some outstanding issues that were annoying. \\n\\nIssue: since the last major update app forces google maps instead of Apple Maps. Maybe have the option to choose?\\n\\nThings that would make it better:\\n1:  ability to change image name \\n2: when looking at an order allow have a button that’s lets you schedule an appointment.\\n3: when looking at an account have a “new order button.\\n4: when editing account allow option to set account alert flag. \\n5: iPad app \\n6: really don’t like the pink box over stacked jobs. It’s a pain to deal with and an eyesore. SM5 used to offset the jobs. That would be cool.\\n7: when sending email allow the ability to load a template then change the content.',\n  'rating': 3,\n  'isEdited': True,\n  'userName': 'Kali-jw',\n  'title': 'It’s ok'},\n {'date': datetime.datetime(2021, 2, 21, 21, 24, 15),\n  'developerResponse': {'id': 26463289,\n   'body': 'Thank you for the kind words, we appreciate the feedback!',\n   'modified': '2021-11-24T23:36:51Z'},\n  'review': 'I have been a Servicemonster user for 10 years.  They offer great support if needed and continue to improve the software.  It’s a great value for the money!  Between Servicemonster, Quickbooks and Ringcentral we can run our entire home service business with a laptop and smartphone.  With features like drip campaigns, fill my schedule, data tags, API you can automate a lot of processes and minimize “busy work” or admin staff.   Highly recommend!',\n  'rating': 5,\n  'isEdited': False,\n  'userName': 'AMF from IN',\n  'title': 'Couldn’t run my business without it!'},\n {'date': datetime.datetime(2021, 10, 26, 10, 19, 20),\n  'review': 'The camera function annoyingly crops photos down smaller for no reason. It’s already hard enough to frame what you are photographing. I don’t need it cropped down any smaller. Please fix this.',\n  'rating': 3,\n  'isEdited': False,\n  'userName': 'bjsavage7',\n  'title': 'Camera'},\n {'date': datetime.datetime(2021, 11, 1, 18, 19, 37),\n  'developerResponse': {'id': 26463283,\n   'body': 'Please pass more information about this issue to support@servicemonster.net so that our support and development teams can address the problem that you are having. ',\n   'modified': '2021-11-24T23:35:56Z'},\n  'review': 'Use this app everyday for work going to different jobs and keeping track of everything that needs to be done. Nothing more frustrating then the app you rely on not working. This isn’t a once in a while problem it’s at least once a week more often then not daily. Have to delete and reinstall the app just for it to refresh',\n  'rating': 1,\n  'isEdited': False,\n  'userName': 'DJ63DJ6363',\n  'title': 'Works maybe half the time'},\n {'date': datetime.datetime(2019, 9, 8, 10, 14, 57),\n  'developerResponse': {'id': 10655165,\n   'body': 'Hi Stephen, we really appreciate your kind words! Thanks for the positive feedback and let us know if you need anything.',\n   'modified': '2019-09-12T17:36:16Z'},\n  'review': 'Our company had been waiting patiently for Service Monster to release this new robust app that extended the capabilities of their technician app. They delivered big time! From businesses management to marketing campaigns they have you covered. \\n\\nThe developers work quickly to address bugs and have almost daily updates fixing issues raised. \\n\\nIf your looking for the best, proven, most ubiquitous SAS platform to grow your service business look no further. \\n\\nThank you Joe K for delivering!\\n\\nStephen - Clean Carpet Rx',\n  'rating': 5,\n  'isEdited': False,\n  'userName': 'HiTECH WEB',\n  'title': 'Great Company, awesome app, best developers'},\n {'date': datetime.datetime(2021, 2, 14, 3, 31, 29),\n  'review': 'We have tried many other CRM products. This is by far the best. Tech support is second to none.  They are always there to help. Five plus stars for this product.',\n  'rating': 5,\n  'isEdited': False,\n  'userName': 'VinnyCC',\n  'title': 'Great App'},\n {'date': datetime.datetime(2022, 10, 10, 14, 15, 17),\n  'review': 'Love everything about this app. Would love to see you add CarPlay to the app for a lot of newer vehicles to be compatible for in dash service.',\n  'rating': 5,\n  'isEdited': False,\n  'userName': 'WPCcontrol',\n  'title': 'Great Service'},\n {'date': datetime.datetime(2020, 11, 18, 22, 48, 19),\n  'review': 'There’s a lot of issues with this app.',\n  'rating': 2,\n  'isEdited': False,\n  'userName': 'cwilliams93735182',\n  'title': 'Many bugs'},\n {'date': datetime.datetime(2021, 11, 1, 19, 0, 48),\n  'developerResponse': {'id': 26463276,\n   'body': \"We're sorry to hear that you are having issues with the notes field. Please reach out to support@servicemonster.net and our support team will be there to help you!\",\n   'modified': '2021-11-24T23:33:33Z'},\n  'review': \"It barely works. But don't put notes in when you create an appointment. It'll lose them. It often logs you out then crashes twice before working properly.\",\n  'rating': 1,\n  'isEdited': False,\n  'userName': 'fly....n.....',\n  'title': 'So many issues!'},\n {'date': datetime.datetime(2021, 8, 29, 3, 14, 53),\n  'review': 'Everything I try and log into this app, a white screen comes up and it’s stuck',\n  'rating': 1,\n  'isEdited': False,\n  'userName': 'd_dominator',\n  'title': 'White screen'},\n {'date': datetime.datetime(2020, 11, 10, 15, 47, 37),\n  'review': 'App is good when it’s working. Problem I’ve found is every week or two I’ll go to open the app and it’ll immediately crash. I have to uninstall and reinstall. Another employee has same problem on android',\n  'rating': 2,\n  'isEdited': False,\n  'userName': 'frustrated 9997',\n  'title': 'Constant crashing'},\n {'date': datetime.datetime(2021, 2, 9, 13, 28, 1),\n  'review': 'Yep, nice color choices',\n  'rating': 5,\n  'isEdited': False,\n  'userName': 'Davegoloath14',\n  'title': 'Nice colors'}]"
     },
     "execution_count": 76,
     "metadata": {},
     "output_type": "execute_result"
    }
   ],
   "source": [
    "APP_NAME.reviews"
   ]
  },
  {
   "cell_type": "code",
   "execution_count": 77,
   "metadata": {},
   "outputs": [
    {
     "data": {
      "text/plain": "       Unnamed: 0     review  \\\n            count sum  count   \nrating                         \n3               1   0      1   \n5               1   2      1   \n\n                                                          userName  \\\n                                                      sum    count   \nrating                                                               \n3       New updates are good. Fixed some outstanding i...        1   \n5       Our company had been waiting patiently for Ser...        1   \n\n                   developerResponse  \\\n               sum             count   \nrating                                 \n3          Kali-jw                 1   \n5       HiTECH WEB                 1   \n\n                                                           date  \\\n                                                      sum count   \nrating                                                            \n3       {'id': 16292956, 'body': \"Hi there, \\n\\nWe've ...     1   \n5       {'id': 10655165, 'body': 'Hi Stephen, we reall...     1   \n\n                            isEdited     title  \\\n                        sum    count sum count   \nrating                                           \n3       2020-09-03 22:58:54        1   1     1   \n5       2019-09-08 10:14:57        1   0     1   \n\n                                                     \n                                                sum  \nrating                                               \n3                                           It’s ok  \n5       Great Company, awesome app, best developers  ",
      "text/html": "<div>\n<style scoped>\n    .dataframe tbody tr th:only-of-type {\n        vertical-align: middle;\n    }\n\n    .dataframe tbody tr th {\n        vertical-align: top;\n    }\n\n    .dataframe thead tr th {\n        text-align: left;\n    }\n\n    .dataframe thead tr:last-of-type th {\n        text-align: right;\n    }\n</style>\n<table border=\"1\" class=\"dataframe\">\n  <thead>\n    <tr>\n      <th></th>\n      <th colspan=\"2\" halign=\"left\">Unnamed: 0</th>\n      <th colspan=\"2\" halign=\"left\">review</th>\n      <th colspan=\"2\" halign=\"left\">userName</th>\n      <th colspan=\"2\" halign=\"left\">developerResponse</th>\n      <th colspan=\"2\" halign=\"left\">date</th>\n      <th colspan=\"2\" halign=\"left\">isEdited</th>\n      <th colspan=\"2\" halign=\"left\">title</th>\n    </tr>\n    <tr>\n      <th></th>\n      <th>count</th>\n      <th>sum</th>\n      <th>count</th>\n      <th>sum</th>\n      <th>count</th>\n      <th>sum</th>\n      <th>count</th>\n      <th>sum</th>\n      <th>count</th>\n      <th>sum</th>\n      <th>count</th>\n      <th>sum</th>\n      <th>count</th>\n      <th>sum</th>\n    </tr>\n    <tr>\n      <th>rating</th>\n      <th></th>\n      <th></th>\n      <th></th>\n      <th></th>\n      <th></th>\n      <th></th>\n      <th></th>\n      <th></th>\n      <th></th>\n      <th></th>\n      <th></th>\n      <th></th>\n      <th></th>\n      <th></th>\n    </tr>\n  </thead>\n  <tbody>\n    <tr>\n      <th>3</th>\n      <td>1</td>\n      <td>0</td>\n      <td>1</td>\n      <td>New updates are good. Fixed some outstanding i...</td>\n      <td>1</td>\n      <td>Kali-jw</td>\n      <td>1</td>\n      <td>{'id': 16292956, 'body': \"Hi there, \\n\\nWe've ...</td>\n      <td>1</td>\n      <td>2020-09-03 22:58:54</td>\n      <td>1</td>\n      <td>1</td>\n      <td>1</td>\n      <td>It’s ok</td>\n    </tr>\n    <tr>\n      <th>5</th>\n      <td>1</td>\n      <td>2</td>\n      <td>1</td>\n      <td>Our company had been waiting patiently for Ser...</td>\n      <td>1</td>\n      <td>HiTECH WEB</td>\n      <td>1</td>\n      <td>{'id': 10655165, 'body': 'Hi Stephen, we reall...</td>\n      <td>1</td>\n      <td>2019-09-08 10:14:57</td>\n      <td>1</td>\n      <td>0</td>\n      <td>1</td>\n      <td>Great Company, awesome app, best developers</td>\n    </tr>\n  </tbody>\n</table>\n</div>"
     },
     "execution_count": 77,
     "metadata": {},
     "output_type": "execute_result"
    }
   ],
   "source": [
    "df = pd.DataFrame(np.array(APP_NAME.reviews),columns=['review'])\n",
    "df2 = df.join(pd.DataFrame(df.pop('review').tolist()))\n",
    "df2.head()\n",
    "df2.to_csv(f'/data/{APP_NAME}.csv')"
   ]
  },
  {
   "cell_type": "code",
   "execution_count": 78,
   "metadata": {},
   "outputs": [
    {
     "data": {
      "text/plain": "                  date                                  developerResponse  \\\n0  2020-09-03 22:58:54  {'id': 16292956, 'body': 'Hi there, \n\nWe've re...   \n1  2021-02-21 21:24:15  {'id': 26463289, 'body': 'Thank you for the ki...   \n2  2021-10-26 10:19:20                                                NaN   \n3  2021-11-01 18:19:37  {'id': 26463283, 'body': 'Please pass more inf...   \n4  2019-09-08 10:14:57  {'id': 10655165, 'body': 'Hi Stephen, we reall...   \n5  2021-02-14 03:31:29                                                NaN   \n6  2022-10-10 14:15:17                                                NaN   \n7  2020-11-18 22:48:19                                                NaN   \n8  2021-11-01 19:00:48  {'id': 26463276, 'body': 'We're sorry to hear ...   \n9  2021-08-29 03:14:53                                                NaN   \n10 2020-11-10 15:47:37                                                NaN   \n11 2021-02-09 13:28:01                                                NaN   \n\n                                               review  rating  isEdited  \\\n0   New updates are good. Fixed some outstanding i...       3      True   \n1   I have been a Servicemonster user for 10 years...       5     False   \n2   The camera function annoyingly crops photos do...       3     False   \n3   Use this app everyday for work going to differ...       1     False   \n4   Our company had been waiting patiently for Ser...       5     False   \n5   We have tried many other CRM products. This is...       5     False   \n6   Love everything about this app. Would love to ...       5     False   \n7              There’s a lot of issues with this app.       2     False   \n8   It barely works. But don't put notes in when y...       1     False   \n9   Everything I try and log into this app, a whit...       1     False   \n10  App is good when it’s working. Problem I’ve fo...       2     False   \n11                            Yep, nice color choices       5     False   \n\n             userName                                        title  \n0             Kali-jw                                      It’s ok  \n1         AMF from IN         Couldn’t run my business without it!  \n2           bjsavage7                                       Camera  \n3          DJ63DJ6363                    Works maybe half the time  \n4          HiTECH WEB  Great Company, awesome app, best developers  \n5             VinnyCC                                    Great App  \n6          WPCcontrol                                Great Service  \n7   cwilliams93735182                                    Many bugs  \n8       fly....n.....                              So many issues!  \n9         d_dominator                                 White screen  \n10    frustrated 9997                            Constant crashing  \n11      Davegoloath14                                  Nice colors  ",
      "text/html": "<div>\n<style scoped>\n    .dataframe tbody tr th:only-of-type {\n        vertical-align: middle;\n    }\n\n    .dataframe tbody tr th {\n        vertical-align: top;\n    }\n\n    .dataframe thead th {\n        text-align: right;\n    }\n</style>\n<table border=\"1\" class=\"dataframe\">\n  <thead>\n    <tr style=\"text-align: right;\">\n      <th></th>\n      <th>date</th>\n      <th>developerResponse</th>\n      <th>review</th>\n      <th>rating</th>\n      <th>isEdited</th>\n      <th>userName</th>\n      <th>title</th>\n    </tr>\n  </thead>\n  <tbody>\n    <tr>\n      <th>0</th>\n      <td>2020-09-03 22:58:54</td>\n      <td>{'id': 16292956, 'body': 'Hi there, \n\nWe've re...</td>\n      <td>New updates are good. Fixed some outstanding i...</td>\n      <td>3</td>\n      <td>True</td>\n      <td>Kali-jw</td>\n      <td>It’s ok</td>\n    </tr>\n    <tr>\n      <th>1</th>\n      <td>2021-02-21 21:24:15</td>\n      <td>{'id': 26463289, 'body': 'Thank you for the ki...</td>\n      <td>I have been a Servicemonster user for 10 years...</td>\n      <td>5</td>\n      <td>False</td>\n      <td>AMF from IN</td>\n      <td>Couldn’t run my business without it!</td>\n    </tr>\n    <tr>\n      <th>2</th>\n      <td>2021-10-26 10:19:20</td>\n      <td>NaN</td>\n      <td>The camera function annoyingly crops photos do...</td>\n      <td>3</td>\n      <td>False</td>\n      <td>bjsavage7</td>\n      <td>Camera</td>\n    </tr>\n    <tr>\n      <th>3</th>\n      <td>2021-11-01 18:19:37</td>\n      <td>{'id': 26463283, 'body': 'Please pass more inf...</td>\n      <td>Use this app everyday for work going to differ...</td>\n      <td>1</td>\n      <td>False</td>\n      <td>DJ63DJ6363</td>\n      <td>Works maybe half the time</td>\n    </tr>\n    <tr>\n      <th>4</th>\n      <td>2019-09-08 10:14:57</td>\n      <td>{'id': 10655165, 'body': 'Hi Stephen, we reall...</td>\n      <td>Our company had been waiting patiently for Ser...</td>\n      <td>5</td>\n      <td>False</td>\n      <td>HiTECH WEB</td>\n      <td>Great Company, awesome app, best developers</td>\n    </tr>\n    <tr>\n      <th>5</th>\n      <td>2021-02-14 03:31:29</td>\n      <td>NaN</td>\n      <td>We have tried many other CRM products. This is...</td>\n      <td>5</td>\n      <td>False</td>\n      <td>VinnyCC</td>\n      <td>Great App</td>\n    </tr>\n    <tr>\n      <th>6</th>\n      <td>2022-10-10 14:15:17</td>\n      <td>NaN</td>\n      <td>Love everything about this app. Would love to ...</td>\n      <td>5</td>\n      <td>False</td>\n      <td>WPCcontrol</td>\n      <td>Great Service</td>\n    </tr>\n    <tr>\n      <th>7</th>\n      <td>2020-11-18 22:48:19</td>\n      <td>NaN</td>\n      <td>There’s a lot of issues with this app.</td>\n      <td>2</td>\n      <td>False</td>\n      <td>cwilliams93735182</td>\n      <td>Many bugs</td>\n    </tr>\n    <tr>\n      <th>8</th>\n      <td>2021-11-01 19:00:48</td>\n      <td>{'id': 26463276, 'body': 'We're sorry to hear ...</td>\n      <td>It barely works. But don't put notes in when y...</td>\n      <td>1</td>\n      <td>False</td>\n      <td>fly....n.....</td>\n      <td>So many issues!</td>\n    </tr>\n    <tr>\n      <th>9</th>\n      <td>2021-08-29 03:14:53</td>\n      <td>NaN</td>\n      <td>Everything I try and log into this app, a whit...</td>\n      <td>1</td>\n      <td>False</td>\n      <td>d_dominator</td>\n      <td>White screen</td>\n    </tr>\n    <tr>\n      <th>10</th>\n      <td>2020-11-10 15:47:37</td>\n      <td>NaN</td>\n      <td>App is good when it’s working. Problem I’ve fo...</td>\n      <td>2</td>\n      <td>False</td>\n      <td>frustrated 9997</td>\n      <td>Constant crashing</td>\n    </tr>\n    <tr>\n      <th>11</th>\n      <td>2021-02-09 13:28:01</td>\n      <td>NaN</td>\n      <td>Yep, nice color choices</td>\n      <td>5</td>\n      <td>False</td>\n      <td>Davegoloath14</td>\n      <td>Nice colors</td>\n    </tr>\n  </tbody>\n</table>\n</div>"
     },
     "execution_count": 78,
     "metadata": {},
     "output_type": "execute_result"
    }
   ],
   "source": [
    "Data = pd.read_csv('/data/Voxer_app_reviews.csv')\n",
    "Data = Data.dropna()\n",
    "# Data.head()\n",
    "Data.groupby('rating').agg(['count','sum'])\n",
    "#Data['Sentiment'].value_counts("
   ]
  },
  {
   "cell_type": "code",
   "execution_count": 79,
   "metadata": {},
   "outputs": [
    {
     "data": {
      "text/plain": "       Unnamed: 0       isEdited      date                      userName  \\\n            count   sum    count sum count                  sum    count   \nrating                                                                     \n1               1    39        1   0     1  2018-11-27 03:35:09        1   \n2               1    32        1   0     1  2018-06-04 05:00:50        1   \n3               1  1401        1   0     1  2018-06-23 00:07:38        1   \n4               1    12        1   0     1  2019-07-05 20:57:49        1   \n5               1    27        1   0     1  2018-09-23 17:05:36        1   \n\n                        review  \\\n                    sum  count   \nrating                           \n1              LocoBria      1   \n2       Imasoccer_girl2      1   \n3              Sam09783      1   \n4         Here you are!      1   \n5         Makenzie Hill      1   \n\n                                                          title  \\\n                                                      sum count   \nrating                                                            \n1       I have had musically since the app launched an...     1   \n2       I love musically lots but the new update just ...     1   \n3       I NEED HELP!!\\nNo like seriously. So I heard t...     1   \n4       I enjoy this app a lot and all the thing that ...     1   \n5       hi, my name is makenzie hill. And i’m having s...     1   \n\n                                                     developerResponse  \\\n                                                 sum             count   \nrating                                                                   \n1                 Horrible Update And Bugs Got Worse                 1   \n2       Love the app but I want the old Version back                 1   \n3                It’s great but NEEDS A LOT of fixes                 1   \n4                                 Here’s a review !🥰                 1   \n5                                      Duet Glitches                 1   \n\n                                                           \n                                                      sum  \nrating                                                     \n1       {'id': 6491141, 'body': \"Hi LocoBria! Thank yo...  \n2       {'id': 6966810, 'body': \"Hi Imasoccer_girl2, t...  \n3       {'id': 3953290, 'body': 'Hi,\\n\\nPlease visit h...  \n4       {'id': 13036047, 'body': 'Hey @Here you are! !...  \n5       {'id': 6491137, 'body': 'Thanks Makenzie Hill,...  ",
      "text/html": "<div>\n<style scoped>\n    .dataframe tbody tr th:only-of-type {\n        vertical-align: middle;\n    }\n\n    .dataframe tbody tr th {\n        vertical-align: top;\n    }\n\n    .dataframe thead tr th {\n        text-align: left;\n    }\n\n    .dataframe thead tr:last-of-type th {\n        text-align: right;\n    }\n</style>\n<table border=\"1\" class=\"dataframe\">\n  <thead>\n    <tr>\n      <th></th>\n      <th colspan=\"2\" halign=\"left\">Unnamed: 0</th>\n      <th colspan=\"2\" halign=\"left\">isEdited</th>\n      <th colspan=\"2\" halign=\"left\">date</th>\n      <th colspan=\"2\" halign=\"left\">userName</th>\n      <th colspan=\"2\" halign=\"left\">review</th>\n      <th colspan=\"2\" halign=\"left\">title</th>\n      <th colspan=\"2\" halign=\"left\">developerResponse</th>\n    </tr>\n    <tr>\n      <th></th>\n      <th>count</th>\n      <th>sum</th>\n      <th>count</th>\n      <th>sum</th>\n      <th>count</th>\n      <th>sum</th>\n      <th>count</th>\n      <th>sum</th>\n      <th>count</th>\n      <th>sum</th>\n      <th>count</th>\n      <th>sum</th>\n      <th>count</th>\n      <th>sum</th>\n    </tr>\n    <tr>\n      <th>rating</th>\n      <th></th>\n      <th></th>\n      <th></th>\n      <th></th>\n      <th></th>\n      <th></th>\n      <th></th>\n      <th></th>\n      <th></th>\n      <th></th>\n      <th></th>\n      <th></th>\n      <th></th>\n      <th></th>\n    </tr>\n  </thead>\n  <tbody>\n    <tr>\n      <th>1</th>\n      <td>1</td>\n      <td>39</td>\n      <td>1</td>\n      <td>0</td>\n      <td>1</td>\n      <td>2018-11-27 03:35:09</td>\n      <td>1</td>\n      <td>LocoBria</td>\n      <td>1</td>\n      <td>I have had musically since the app launched an...</td>\n      <td>1</td>\n      <td>Horrible Update And Bugs Got Worse</td>\n      <td>1</td>\n      <td>{'id': 6491141, 'body': \"Hi LocoBria! Thank yo...</td>\n    </tr>\n    <tr>\n      <th>2</th>\n      <td>1</td>\n      <td>32</td>\n      <td>1</td>\n      <td>0</td>\n      <td>1</td>\n      <td>2018-06-04 05:00:50</td>\n      <td>1</td>\n      <td>Imasoccer_girl2</td>\n      <td>1</td>\n      <td>I love musically lots but the new update just ...</td>\n      <td>1</td>\n      <td>Love the app but I want the old Version back</td>\n      <td>1</td>\n      <td>{'id': 6966810, 'body': \"Hi Imasoccer_girl2, t...</td>\n    </tr>\n    <tr>\n      <th>3</th>\n      <td>1</td>\n      <td>1401</td>\n      <td>1</td>\n      <td>0</td>\n      <td>1</td>\n      <td>2018-06-23 00:07:38</td>\n      <td>1</td>\n      <td>Sam09783</td>\n      <td>1</td>\n      <td>I NEED HELP!!\\nNo like seriously. So I heard t...</td>\n      <td>1</td>\n      <td>It’s great but NEEDS A LOT of fixes</td>\n      <td>1</td>\n      <td>{'id': 3953290, 'body': 'Hi,\\n\\nPlease visit h...</td>\n    </tr>\n    <tr>\n      <th>4</th>\n      <td>1</td>\n      <td>12</td>\n      <td>1</td>\n      <td>0</td>\n      <td>1</td>\n      <td>2019-07-05 20:57:49</td>\n      <td>1</td>\n      <td>Here you are!</td>\n      <td>1</td>\n      <td>I enjoy this app a lot and all the thing that ...</td>\n      <td>1</td>\n      <td>Here’s a review !🥰</td>\n      <td>1</td>\n      <td>{'id': 13036047, 'body': 'Hey @Here you are! !...</td>\n    </tr>\n    <tr>\n      <th>5</th>\n      <td>1</td>\n      <td>27</td>\n      <td>1</td>\n      <td>0</td>\n      <td>1</td>\n      <td>2018-09-23 17:05:36</td>\n      <td>1</td>\n      <td>Makenzie Hill</td>\n      <td>1</td>\n      <td>hi, my name is makenzie hill. And i’m having s...</td>\n      <td>1</td>\n      <td>Duet Glitches</td>\n      <td>1</td>\n      <td>{'id': 6491137, 'body': 'Thanks Makenzie Hill,...</td>\n    </tr>\n  </tbody>\n</table>\n</div>"
     },
     "execution_count": 79,
     "metadata": {},
     "output_type": "execute_result"
    }
   ],
   "source": [
    "Data = Data.dropna()\n",
    "# Data.head()\n",
    "Data.groupby('rating').agg(['count','sum'])\n",
    "#Data['Sentiment'].value_counts("
   ]
  },
  {
   "cell_type": "code",
   "execution_count": 80,
   "metadata": {},
   "outputs": [
    {
     "data": {
      "text/plain": "       Unnamed: 0       isEdited      date                      userName  \\\n            count   sum    count sum count                  sum    count   \nrating                                                                     \n1               1    39        1   0     1  2018-11-27 03:35:09        1   \n2               1    32        1   0     1  2018-06-04 05:00:50        1   \n3               1  1401        1   0     1  2018-06-23 00:07:38        1   \n4               1    12        1   0     1  2019-07-05 20:57:49        1   \n5               1    27        1   0     1  2018-09-23 17:05:36        1   \n\n                        review  \\\n                    sum  count   \nrating                           \n1              LocoBria      1   \n2       Imasoccer_girl2      1   \n3              Sam09783      1   \n4         Here you are!      1   \n5         Makenzie Hill      1   \n\n                                                          title  \\\n                                                      sum count   \nrating                                                            \n1       I have had musically since the app launched an...     1   \n2       I love musically lots but the new update just ...     1   \n3       I NEED HELP!!\\nNo like seriously. So I heard t...     1   \n4       I enjoy this app a lot and all the thing that ...     1   \n5       hi, my name is makenzie hill. And i’m having s...     1   \n\n                                                     developerResponse  \\\n                                                 sum             count   \nrating                                                                   \n1                 Horrible Update And Bugs Got Worse                 1   \n2       Love the app but I want the old Version back                 1   \n3                It’s great but NEEDS A LOT of fixes                 1   \n4                                 Here’s a review !🥰                 1   \n5                                      Duet Glitches                 1   \n\n                                                           \n                                                      sum  \nrating                                                     \n1       {'id': 6491141, 'body': \"Hi LocoBria! Thank yo...  \n2       {'id': 6966810, 'body': \"Hi Imasoccer_girl2, t...  \n3       {'id': 3953290, 'body': 'Hi,\\n\\nPlease visit h...  \n4       {'id': 13036047, 'body': 'Hey @Here you are! !...  \n5       {'id': 6491137, 'body': 'Thanks Makenzie Hill,...  ",
      "text/html": "<div>\n<style scoped>\n    .dataframe tbody tr th:only-of-type {\n        vertical-align: middle;\n    }\n\n    .dataframe tbody tr th {\n        vertical-align: top;\n    }\n\n    .dataframe thead tr th {\n        text-align: left;\n    }\n\n    .dataframe thead tr:last-of-type th {\n        text-align: right;\n    }\n</style>\n<table border=\"1\" class=\"dataframe\">\n  <thead>\n    <tr>\n      <th></th>\n      <th colspan=\"2\" halign=\"left\">Unnamed: 0</th>\n      <th colspan=\"2\" halign=\"left\">isEdited</th>\n      <th colspan=\"2\" halign=\"left\">date</th>\n      <th colspan=\"2\" halign=\"left\">userName</th>\n      <th colspan=\"2\" halign=\"left\">review</th>\n      <th colspan=\"2\" halign=\"left\">title</th>\n      <th colspan=\"2\" halign=\"left\">developerResponse</th>\n    </tr>\n    <tr>\n      <th></th>\n      <th>count</th>\n      <th>sum</th>\n      <th>count</th>\n      <th>sum</th>\n      <th>count</th>\n      <th>sum</th>\n      <th>count</th>\n      <th>sum</th>\n      <th>count</th>\n      <th>sum</th>\n      <th>count</th>\n      <th>sum</th>\n      <th>count</th>\n      <th>sum</th>\n    </tr>\n    <tr>\n      <th>rating</th>\n      <th></th>\n      <th></th>\n      <th></th>\n      <th></th>\n      <th></th>\n      <th></th>\n      <th></th>\n      <th></th>\n      <th></th>\n      <th></th>\n      <th></th>\n      <th></th>\n      <th></th>\n      <th></th>\n    </tr>\n  </thead>\n  <tbody>\n    <tr>\n      <th>1</th>\n      <td>1</td>\n      <td>39</td>\n      <td>1</td>\n      <td>0</td>\n      <td>1</td>\n      <td>2018-11-27 03:35:09</td>\n      <td>1</td>\n      <td>LocoBria</td>\n      <td>1</td>\n      <td>I have had musically since the app launched an...</td>\n      <td>1</td>\n      <td>Horrible Update And Bugs Got Worse</td>\n      <td>1</td>\n      <td>{'id': 6491141, 'body': \"Hi LocoBria! Thank yo...</td>\n    </tr>\n    <tr>\n      <th>2</th>\n      <td>1</td>\n      <td>32</td>\n      <td>1</td>\n      <td>0</td>\n      <td>1</td>\n      <td>2018-06-04 05:00:50</td>\n      <td>1</td>\n      <td>Imasoccer_girl2</td>\n      <td>1</td>\n      <td>I love musically lots but the new update just ...</td>\n      <td>1</td>\n      <td>Love the app but I want the old Version back</td>\n      <td>1</td>\n      <td>{'id': 6966810, 'body': \"Hi Imasoccer_girl2, t...</td>\n    </tr>\n    <tr>\n      <th>3</th>\n      <td>1</td>\n      <td>1401</td>\n      <td>1</td>\n      <td>0</td>\n      <td>1</td>\n      <td>2018-06-23 00:07:38</td>\n      <td>1</td>\n      <td>Sam09783</td>\n      <td>1</td>\n      <td>I NEED HELP!!\\nNo like seriously. So I heard t...</td>\n      <td>1</td>\n      <td>It’s great but NEEDS A LOT of fixes</td>\n      <td>1</td>\n      <td>{'id': 3953290, 'body': 'Hi,\\n\\nPlease visit h...</td>\n    </tr>\n    <tr>\n      <th>4</th>\n      <td>1</td>\n      <td>12</td>\n      <td>1</td>\n      <td>0</td>\n      <td>1</td>\n      <td>2019-07-05 20:57:49</td>\n      <td>1</td>\n      <td>Here you are!</td>\n      <td>1</td>\n      <td>I enjoy this app a lot and all the thing that ...</td>\n      <td>1</td>\n      <td>Here’s a review !🥰</td>\n      <td>1</td>\n      <td>{'id': 13036047, 'body': 'Hey @Here you are! !...</td>\n    </tr>\n    <tr>\n      <th>5</th>\n      <td>1</td>\n      <td>27</td>\n      <td>1</td>\n      <td>0</td>\n      <td>1</td>\n      <td>2018-09-23 17:05:36</td>\n      <td>1</td>\n      <td>Makenzie Hill</td>\n      <td>1</td>\n      <td>hi, my name is makenzie hill. And i’m having s...</td>\n      <td>1</td>\n      <td>Duet Glitches</td>\n      <td>1</td>\n      <td>{'id': 6491137, 'body': 'Thanks Makenzie Hill,...</td>\n    </tr>\n  </tbody>\n</table>\n</div>"
     },
     "execution_count": 80,
     "metadata": {},
     "output_type": "execute_result"
    }
   ],
   "source": [
    "df3 = pd.DataFrame(np.array(zello.reviews),columns=['review'])\n",
    "df4 = df2.join(pd.DataFrame(df3.pop('review').tolist()))\n",
    "# df4.head()\n",
    "df4.to_csv('/data/zello_app_reviews.csv')"
   ]
  },
  {
   "cell_type": "code",
   "execution_count": 81,
   "metadata": {},
   "outputs": [
    {
     "data": {
      "text/plain": "                  date                                  developerResponse  \\\n0  2020-09-03 22:58:54  {'id': 16292956, 'body': 'Hi there, \n\nWe've re...   \n1  2021-02-21 21:24:15  {'id': 26463289, 'body': 'Thank you for the ki...   \n2  2021-10-26 10:19:20                                                NaN   \n3  2021-11-01 18:19:37  {'id': 26463283, 'body': 'Please pass more inf...   \n4  2019-09-08 10:14:57  {'id': 10655165, 'body': 'Hi Stephen, we reall...   \n5  2021-02-14 03:31:29                                                NaN   \n6  2022-10-10 14:15:17                                                NaN   \n7  2020-11-18 22:48:19                                                NaN   \n8  2021-11-01 19:00:48  {'id': 26463276, 'body': 'We're sorry to hear ...   \n9  2021-08-29 03:14:53                                                NaN   \n10 2020-11-10 15:47:37                                                NaN   \n11 2021-02-09 13:28:01                                                NaN   \n\n                                               review  rating  isEdited  \\\n0   New updates are good. Fixed some outstanding i...       3      True   \n1   I have been a Servicemonster user for 10 years...       5     False   \n2   The camera function annoyingly crops photos do...       3     False   \n3   Use this app everyday for work going to differ...       1     False   \n4   Our company had been waiting patiently for Ser...       5     False   \n5   We have tried many other CRM products. This is...       5     False   \n6   Love everything about this app. Would love to ...       5     False   \n7              There’s a lot of issues with this app.       2     False   \n8   It barely works. But don't put notes in when y...       1     False   \n9   Everything I try and log into this app, a whit...       1     False   \n10  App is good when it’s working. Problem I’ve fo...       2     False   \n11                            Yep, nice color choices       5     False   \n\n             userName                                        title  \n0             Kali-jw                                      It’s ok  \n1         AMF from IN         Couldn’t run my business without it!  \n2           bjsavage7                                       Camera  \n3          DJ63DJ6363                    Works maybe half the time  \n4          HiTECH WEB  Great Company, awesome app, best developers  \n5             VinnyCC                                    Great App  \n6          WPCcontrol                                Great Service  \n7   cwilliams93735182                                    Many bugs  \n8       fly....n.....                              So many issues!  \n9         d_dominator                                 White screen  \n10    frustrated 9997                            Constant crashing  \n11      Davegoloath14                                  Nice colors  ",
      "text/html": "<div>\n<style scoped>\n    .dataframe tbody tr th:only-of-type {\n        vertical-align: middle;\n    }\n\n    .dataframe tbody tr th {\n        vertical-align: top;\n    }\n\n    .dataframe thead th {\n        text-align: right;\n    }\n</style>\n<table border=\"1\" class=\"dataframe\">\n  <thead>\n    <tr style=\"text-align: right;\">\n      <th></th>\n      <th>date</th>\n      <th>developerResponse</th>\n      <th>review</th>\n      <th>rating</th>\n      <th>isEdited</th>\n      <th>userName</th>\n      <th>title</th>\n    </tr>\n  </thead>\n  <tbody>\n    <tr>\n      <th>0</th>\n      <td>2020-09-03 22:58:54</td>\n      <td>{'id': 16292956, 'body': 'Hi there, \n\nWe've re...</td>\n      <td>New updates are good. Fixed some outstanding i...</td>\n      <td>3</td>\n      <td>True</td>\n      <td>Kali-jw</td>\n      <td>It’s ok</td>\n    </tr>\n    <tr>\n      <th>1</th>\n      <td>2021-02-21 21:24:15</td>\n      <td>{'id': 26463289, 'body': 'Thank you for the ki...</td>\n      <td>I have been a Servicemonster user for 10 years...</td>\n      <td>5</td>\n      <td>False</td>\n      <td>AMF from IN</td>\n      <td>Couldn’t run my business without it!</td>\n    </tr>\n    <tr>\n      <th>2</th>\n      <td>2021-10-26 10:19:20</td>\n      <td>NaN</td>\n      <td>The camera function annoyingly crops photos do...</td>\n      <td>3</td>\n      <td>False</td>\n      <td>bjsavage7</td>\n      <td>Camera</td>\n    </tr>\n    <tr>\n      <th>3</th>\n      <td>2021-11-01 18:19:37</td>\n      <td>{'id': 26463283, 'body': 'Please pass more inf...</td>\n      <td>Use this app everyday for work going to differ...</td>\n      <td>1</td>\n      <td>False</td>\n      <td>DJ63DJ6363</td>\n      <td>Works maybe half the time</td>\n    </tr>\n    <tr>\n      <th>4</th>\n      <td>2019-09-08 10:14:57</td>\n      <td>{'id': 10655165, 'body': 'Hi Stephen, we reall...</td>\n      <td>Our company had been waiting patiently for Ser...</td>\n      <td>5</td>\n      <td>False</td>\n      <td>HiTECH WEB</td>\n      <td>Great Company, awesome app, best developers</td>\n    </tr>\n    <tr>\n      <th>5</th>\n      <td>2021-02-14 03:31:29</td>\n      <td>NaN</td>\n      <td>We have tried many other CRM products. This is...</td>\n      <td>5</td>\n      <td>False</td>\n      <td>VinnyCC</td>\n      <td>Great App</td>\n    </tr>\n    <tr>\n      <th>6</th>\n      <td>2022-10-10 14:15:17</td>\n      <td>NaN</td>\n      <td>Love everything about this app. Would love to ...</td>\n      <td>5</td>\n      <td>False</td>\n      <td>WPCcontrol</td>\n      <td>Great Service</td>\n    </tr>\n    <tr>\n      <th>7</th>\n      <td>2020-11-18 22:48:19</td>\n      <td>NaN</td>\n      <td>There’s a lot of issues with this app.</td>\n      <td>2</td>\n      <td>False</td>\n      <td>cwilliams93735182</td>\n      <td>Many bugs</td>\n    </tr>\n    <tr>\n      <th>8</th>\n      <td>2021-11-01 19:00:48</td>\n      <td>{'id': 26463276, 'body': 'We're sorry to hear ...</td>\n      <td>It barely works. But don't put notes in when y...</td>\n      <td>1</td>\n      <td>False</td>\n      <td>fly....n.....</td>\n      <td>So many issues!</td>\n    </tr>\n    <tr>\n      <th>9</th>\n      <td>2021-08-29 03:14:53</td>\n      <td>NaN</td>\n      <td>Everything I try and log into this app, a whit...</td>\n      <td>1</td>\n      <td>False</td>\n      <td>d_dominator</td>\n      <td>White screen</td>\n    </tr>\n    <tr>\n      <th>10</th>\n      <td>2020-11-10 15:47:37</td>\n      <td>NaN</td>\n      <td>App is good when it’s working. Problem I’ve fo...</td>\n      <td>2</td>\n      <td>False</td>\n      <td>frustrated 9997</td>\n      <td>Constant crashing</td>\n    </tr>\n    <tr>\n      <th>11</th>\n      <td>2021-02-09 13:28:01</td>\n      <td>NaN</td>\n      <td>Yep, nice color choices</td>\n      <td>5</td>\n      <td>False</td>\n      <td>Davegoloath14</td>\n      <td>Nice colors</td>\n    </tr>\n  </tbody>\n</table>\n</div>"
     },
     "execution_count": 81,
     "metadata": {},
     "output_type": "execute_result"
    }
   ],
   "source": [
    "Data = pd.read_csv('/data/zello_app_reviews.csv')\n",
    "Data = Data.dropna()\n",
    "# Data.head()\n",
    "# Data.groupby('rating').agg(['count','sum'])\n",
    "#Data['Sentiment'].value_counts("
   ]
  },
  {
   "cell_type": "code",
   "execution_count": 82,
   "metadata": {},
   "outputs": [
    {
     "data": {
      "text/plain": "      Unnamed: 0                 date  rating         userName  \\\n12            12  2019-07-05 20:57:49       4    Here you are!   \n27            27  2018-09-23 17:05:36       5    Makenzie Hill   \n32            32  2018-06-04 05:00:50       2  Imasoccer_girl2   \n39            39  2018-11-27 03:35:09       1         LocoBria   \n1401        1401  2018-06-23 00:07:38       3         Sam09783   \n\n                                             title  isEdited  \\\n12                              Here’s a review !🥰     False   \n27                                   Duet Glitches     False   \n32    Love the app but I want the old Version back     False   \n39              Horrible Update And Bugs Got Worse     False   \n1401           It’s great but NEEDS A LOT of fixes     False   \n\n                                                 review  \\\n12    I enjoy this app a lot and all the thing that ...   \n27    hi, my name is makenzie hill. And i’m having s...   \n32    I love musically lots but the new update just ...   \n39    I have had musically since the app launched an...   \n1401  I NEED HELP!!\\nNo like seriously. So I heard t...   \n\n                                      developerResponse  \n12    {'id': 13036047, 'body': 'Hey @Here you are! !...  \n27    {'id': 6491137, 'body': 'Thanks Makenzie Hill,...  \n32    {'id': 6966810, 'body': \"Hi Imasoccer_girl2, t...  \n39    {'id': 6491141, 'body': \"Hi LocoBria! Thank yo...  \n1401  {'id': 3953290, 'body': 'Hi,\\n\\nPlease visit h...  ",
      "text/html": "<div>\n<style scoped>\n    .dataframe tbody tr th:only-of-type {\n        vertical-align: middle;\n    }\n\n    .dataframe tbody tr th {\n        vertical-align: top;\n    }\n\n    .dataframe thead th {\n        text-align: right;\n    }\n</style>\n<table border=\"1\" class=\"dataframe\">\n  <thead>\n    <tr style=\"text-align: right;\">\n      <th></th>\n      <th>Unnamed: 0</th>\n      <th>date</th>\n      <th>rating</th>\n      <th>userName</th>\n      <th>title</th>\n      <th>isEdited</th>\n      <th>review</th>\n      <th>developerResponse</th>\n    </tr>\n  </thead>\n  <tbody>\n    <tr>\n      <th>12</th>\n      <td>12</td>\n      <td>2019-07-05 20:57:49</td>\n      <td>4</td>\n      <td>Here you are!</td>\n      <td>Here’s a review !🥰</td>\n      <td>False</td>\n      <td>I enjoy this app a lot and all the thing that ...</td>\n      <td>{'id': 13036047, 'body': 'Hey @Here you are! !...</td>\n    </tr>\n    <tr>\n      <th>27</th>\n      <td>27</td>\n      <td>2018-09-23 17:05:36</td>\n      <td>5</td>\n      <td>Makenzie Hill</td>\n      <td>Duet Glitches</td>\n      <td>False</td>\n      <td>hi, my name is makenzie hill. And i’m having s...</td>\n      <td>{'id': 6491137, 'body': 'Thanks Makenzie Hill,...</td>\n    </tr>\n    <tr>\n      <th>32</th>\n      <td>32</td>\n      <td>2018-06-04 05:00:50</td>\n      <td>2</td>\n      <td>Imasoccer_girl2</td>\n      <td>Love the app but I want the old Version back</td>\n      <td>False</td>\n      <td>I love musically lots but the new update just ...</td>\n      <td>{'id': 6966810, 'body': \"Hi Imasoccer_girl2, t...</td>\n    </tr>\n    <tr>\n      <th>39</th>\n      <td>39</td>\n      <td>2018-11-27 03:35:09</td>\n      <td>1</td>\n      <td>LocoBria</td>\n      <td>Horrible Update And Bugs Got Worse</td>\n      <td>False</td>\n      <td>I have had musically since the app launched an...</td>\n      <td>{'id': 6491141, 'body': \"Hi LocoBria! Thank yo...</td>\n    </tr>\n    <tr>\n      <th>1401</th>\n      <td>1401</td>\n      <td>2018-06-23 00:07:38</td>\n      <td>3</td>\n      <td>Sam09783</td>\n      <td>It’s great but NEEDS A LOT of fixes</td>\n      <td>False</td>\n      <td>I NEED HELP!!\\nNo like seriously. So I heard t...</td>\n      <td>{'id': 3953290, 'body': 'Hi,\\n\\nPlease visit h...</td>\n    </tr>\n  </tbody>\n</table>\n</div>"
     },
     "execution_count": 82,
     "metadata": {},
     "output_type": "execute_result"
    }
   ],
   "source": [
    "Data.head()"
   ]
  },
  {
   "cell_type": "code",
   "execution_count": 83,
   "metadata": {},
   "outputs": [
    {
     "data": {
      "text/plain": "      Unnamed: 0                 date  rating         userName  \\\n12            12  2019-07-05 20:57:49       4    Here you are!   \n27            27  2018-09-23 17:05:36       5    Makenzie Hill   \n32            32  2018-06-04 05:00:50       2  Imasoccer_girl2   \n39            39  2018-11-27 03:35:09       1         LocoBria   \n1401        1401  2018-06-23 00:07:38       3         Sam09783   \n\n                                             title  isEdited  \\\n12                              Here’s a review !🥰     False   \n27                                   Duet Glitches     False   \n32    Love the app but I want the old Version back     False   \n39              Horrible Update And Bugs Got Worse     False   \n1401           It’s great but NEEDS A LOT of fixes     False   \n\n                                                 review  \\\n12    I enjoy this app a lot and all the thing that ...   \n27    hi, my name is makenzie hill. And i’m having s...   \n32    I love musically lots but the new update just ...   \n39    I have had musically since the app launched an...   \n1401  I NEED HELP!!\\nNo like seriously. So I heard t...   \n\n                                      developerResponse  \n12    {'id': 13036047, 'body': 'Hey @Here you are! !...  \n27    {'id': 6491137, 'body': 'Thanks Makenzie Hill,...  \n32    {'id': 6966810, 'body': \"Hi Imasoccer_girl2, t...  \n39    {'id': 6491141, 'body': \"Hi LocoBria! Thank yo...  \n1401  {'id': 3953290, 'body': 'Hi,\\n\\nPlease visit h...  ",
      "text/html": "<div>\n<style scoped>\n    .dataframe tbody tr th:only-of-type {\n        vertical-align: middle;\n    }\n\n    .dataframe tbody tr th {\n        vertical-align: top;\n    }\n\n    .dataframe thead th {\n        text-align: right;\n    }\n</style>\n<table border=\"1\" class=\"dataframe\">\n  <thead>\n    <tr style=\"text-align: right;\">\n      <th></th>\n      <th>Unnamed: 0</th>\n      <th>date</th>\n      <th>rating</th>\n      <th>userName</th>\n      <th>title</th>\n      <th>isEdited</th>\n      <th>review</th>\n      <th>developerResponse</th>\n    </tr>\n  </thead>\n  <tbody>\n    <tr>\n      <th>12</th>\n      <td>12</td>\n      <td>2019-07-05 20:57:49</td>\n      <td>4</td>\n      <td>Here you are!</td>\n      <td>Here’s a review !🥰</td>\n      <td>False</td>\n      <td>I enjoy this app a lot and all the thing that ...</td>\n      <td>{'id': 13036047, 'body': 'Hey @Here you are! !...</td>\n    </tr>\n    <tr>\n      <th>27</th>\n      <td>27</td>\n      <td>2018-09-23 17:05:36</td>\n      <td>5</td>\n      <td>Makenzie Hill</td>\n      <td>Duet Glitches</td>\n      <td>False</td>\n      <td>hi, my name is makenzie hill. And i’m having s...</td>\n      <td>{'id': 6491137, 'body': 'Thanks Makenzie Hill,...</td>\n    </tr>\n    <tr>\n      <th>32</th>\n      <td>32</td>\n      <td>2018-06-04 05:00:50</td>\n      <td>2</td>\n      <td>Imasoccer_girl2</td>\n      <td>Love the app but I want the old Version back</td>\n      <td>False</td>\n      <td>I love musically lots but the new update just ...</td>\n      <td>{'id': 6966810, 'body': \"Hi Imasoccer_girl2, t...</td>\n    </tr>\n    <tr>\n      <th>39</th>\n      <td>39</td>\n      <td>2018-11-27 03:35:09</td>\n      <td>1</td>\n      <td>LocoBria</td>\n      <td>Horrible Update And Bugs Got Worse</td>\n      <td>False</td>\n      <td>I have had musically since the app launched an...</td>\n      <td>{'id': 6491141, 'body': \"Hi LocoBria! Thank yo...</td>\n    </tr>\n    <tr>\n      <th>1401</th>\n      <td>1401</td>\n      <td>2018-06-23 00:07:38</td>\n      <td>3</td>\n      <td>Sam09783</td>\n      <td>It’s great but NEEDS A LOT of fixes</td>\n      <td>False</td>\n      <td>I NEED HELP!!\\nNo like seriously. So I heard t...</td>\n      <td>{'id': 3953290, 'body': 'Hi,\\n\\nPlease visit h...</td>\n    </tr>\n  </tbody>\n</table>\n</div>"
     },
     "execution_count": 83,
     "metadata": {},
     "output_type": "execute_result"
    }
   ],
   "source": [
    "# Data.groupby('rating').agg(['count','mean'])"
   ]
  },
  {
   "cell_type": "code",
   "execution_count": null,
   "metadata": {
    "pycharm": {
     "is_executing": true
    }
   },
   "outputs": [],
   "source": [
    "!pip3 install numpy\n",
    "!pip3 install matplotlib\n",
    "!pip3 install seaborn\n",
    "!pip3 install plotly\n",
    "\n",
    "import matplotlib.pyplot as plt\n",
    "import seaborn as sns\n",
    "color = sns.color_palette()\n",
    "%matplotlib inline\n",
    "import plotly.offline as py\n",
    "py.init_notebook_mode(connected=True)\n",
    "import plotly.graph_objs as go\n",
    "import plotly.tools as tls\n",
    "import plotly.express as px\n",
    "# Product Scores\n",
    "\n",
    "Data = pd.read_csv('/data/zello_app_reviews.csv')\n",
    "Data = Data.dropna()\n",
    "\n",
    "fig = px.histogram(df, x=\"rating\")\n",
    "fig.update_traces(marker_color=\"turquoise\",marker_line_color='rgb(8,48,107)',\n",
    "                  marker_line_width=1.5)\n",
    "fig.update_layout(title_text='Rating Score')\n",
    "fig.show()"
   ]
  },
  {
   "cell_type": "code",
   "execution_count": 84,
   "metadata": {},
   "outputs": [],
   "source": []
  }
 ],
 "metadata": {
  "kernelspec": {
   "display_name": "Python 3 (ipykernel)",
   "language": "python",
   "name": "python3"
  },
  "language_info": {
   "codemirror_mode": {
    "name": "ipython",
    "version": 3
   },
   "file_extension": ".py",
   "mimetype": "text/x-python",
   "name": "python",
   "nbconvert_exporter": "python",
   "pygments_lexer": "ipython3",
   "version": "3.9.6"
  }
 },
 "nbformat": 4,
 "nbformat_minor": 1
}
